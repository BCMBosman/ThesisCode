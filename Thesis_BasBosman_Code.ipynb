{
 "cells": [
  {
   "cell_type": "code",
   "execution_count": null,
   "id": "5d2d2290-a4c8-4a1d-9384-b7ce5fc68330",
   "metadata": {
    "tags": []
   },
   "outputs": [],
   "source": [
    "## import packages\n",
    "import pandas as pd\n",
    "import numpy as np\n",
    "\n",
    "from xgboost import XGBClassifier, XGBRegressor\n",
    "from sklearn.ensemble import RandomForestRegressor\n",
    "from sklearn.linear_model import LinearRegression\n",
    "from sklearn import svm\n",
    "\n",
    "from sklearn.experimental import enable_iterative_imputer\n",
    "from sklearn.impute import IterativeImputer, SimpleImputer, KNNImputer\n",
    "from sklearn.model_selection import train_test_split, KFold, cross_val_score\n",
    "from sklearn.preprocessing import MinMaxScaler \n",
    "from sklearn.model_selection import GridSearchCV\n",
    "from sklearn.metrics import accuracy_score, mean_squared_error, mean_absolute_error\n",
    "import matplotlib.pyplot as plt"
   ]
  },
  {
   "cell_type": "markdown",
   "id": "d0bf4bb6-24b9-44c5-be8e-c0bed2014ecc",
   "metadata": {},
   "source": [
    "### Preprocessing and EDA"
   ]
  },
  {
   "cell_type": "code",
   "execution_count": null,
   "id": "21270941-76de-4ad6-adc5-ba7e32ed416b",
   "metadata": {},
   "outputs": [],
   "source": [
    "## import csv\n",
    "df = pd.read_csv(\"ESS10.csv\")"
   ]
  },
  {
   "cell_type": "code",
   "execution_count": null,
   "id": "ba899bdb-f5c6-485f-80a2-8358745fdfec",
   "metadata": {},
   "outputs": [],
   "source": [
    "df.shape"
   ]
  },
  {
   "cell_type": "code",
   "execution_count": null,
   "id": "7265879f-47d5-4932-ad84-ecf06905e8b9",
   "metadata": {
    "scrolled": true
   },
   "outputs": [],
   "source": [
    "df.head()"
   ]
  },
  {
   "cell_type": "code",
   "execution_count": null,
   "id": "0ac8bc93-33e7-464a-9f55-23a33bd34268",
   "metadata": {},
   "outputs": [],
   "source": [
    "## Replacing 7, 8 and 9 with NaN to correct reflect those values as missing\n",
    "df[[\"scidecpb\", \"secgrdec\", \"gvconc19\", \"netusoft\", \"psppsgva\", \"health\"]] = df[[\"scidecpb\", \"secgrdec\", \"gvconc19\", \"netusoft\", \"psppsgva\", \"health\"]].replace([7, 8, 9], np.nan)"
   ]
  },
  {
   "cell_type": "code",
   "execution_count": null,
   "id": "5d10b92a-af93-4067-a2e7-e1c2a5e33a91",
   "metadata": {},
   "outputs": [],
   "source": [
    "## Replacing 77, 88 and 99 with NaN to correct reflect those values as missing\n",
    "df[[\"trstprl\", \"trstlgl\", \"trstplc\", \"trstplt\", \"trstprt\", \"trstep\", \"trstun\", \"trstsci\", \"fairelc\", \"medcrgv\", \"happy\", \"sclmeet\", \"stflife\", \"stfeco\", \"stfgov\", \"stfdem\", \"stfedu\", \"stfhlth\"]] = df[[\"trstprl\", \"trstlgl\", \"trstplc\", \"trstplt\", \"trstprt\", \"trstep\", \"trstun\", \"trstsci\", \"fairelc\", \"medcrgv\", \"happy\", \"sclmeet\", \"stflife\", \"stfeco\", \"stfgov\", \"stfdem\", \"stfedu\", \"stfhlth\"]].replace([77, 88, 99], np.nan)"
   ]
  },
  {
   "cell_type": "code",
   "execution_count": null,
   "id": "42091bb0-d3b1-4708-b653-8ef7ee7dc9fa",
   "metadata": {},
   "outputs": [],
   "source": [
    "## Flip health variable around to reflect that high numbers are a positive response\n",
    "df[\"health\"] = df[\"health\"].map({1:5, 2:4, 3:3, 4:2, 5:1})"
   ]
  },
  {
   "cell_type": "markdown",
   "id": "619262b8-0763-4d6e-acbc-4b4e84472f5f",
   "metadata": {},
   "source": [
    "### Missing value imputation"
   ]
  },
  {
   "cell_type": "code",
   "execution_count": null,
   "id": "3e534109-b6d8-45f0-a9ee-9bab5b41c0bd",
   "metadata": {},
   "outputs": [],
   "source": [
    "## Using MICE imputer to impute missing data\n",
    "imputer = SimpleImputer()"
   ]
  },
  {
   "cell_type": "code",
   "execution_count": null,
   "id": "0b1604d2-9ee9-4462-95a2-d4c7e2f25c74",
   "metadata": {},
   "outputs": [],
   "source": [
    "## Trim csv to only include necessary values\n",
    "df_trimmed = df[[\"scidecpb\", \"secgrdec\", \"gvconc19\", \"netusoft\", \"netustm\", \"psppsgva\", \"trstprl\", \"trstlgl\", \"trstplc\", \n",
    "                 \"trstplt\", \"trstprt\", \"trstep\", \"trstun\", \"trstsci\", \"fairelc\", \"medcrgv\", \"happy\", \"sclmeet\",\n",
    "                \"health\", \"stflife\", \"stfeco\", \"stfgov\", \"stfdem\", \"stfedu\", \"stfhlth\"]]"
   ]
  },
  {
   "cell_type": "code",
   "execution_count": null,
   "id": "a8361ced-5398-4bf6-921c-b4ed91026c0d",
   "metadata": {},
   "outputs": [],
   "source": [
    "df_trimmed = df_trimmed.dropna(subset=[\"secgrdec\"])"
   ]
  },
  {
   "cell_type": "code",
   "execution_count": null,
   "id": "1594aca5-2671-46fd-9d54-6b6a70b4336e",
   "metadata": {},
   "outputs": [],
   "source": [
    "df_imputed = pd.DataFrame(imputer.fit_transform(df_trimmed), columns=df_trimmed.columns)"
   ]
  },
  {
   "cell_type": "markdown",
   "id": "7a476e62-8406-4e3d-be8b-15263e8c8078",
   "metadata": {},
   "source": [
    "### Defining predictor groups"
   ]
  },
  {
   "cell_type": "code",
   "execution_count": null,
   "id": "66711f43-96e1-4033-8ccd-2de440e72098",
   "metadata": {},
   "outputs": [],
   "source": [
    "## Define predictors\n",
    "trust_features = df_imputed[[\"psppsgva\", \"trstprl\", \"trstlgl\", \"trstplc\", \"trstplt\", \"trstprt\", \"trstep\", \"trstun\", \"trstsci\", \"fairelc\", \"medcrgv\"]]"
   ]
  },
  {
   "cell_type": "code",
   "execution_count": null,
   "id": "86538b7d-407c-4c9c-b9b3-39e943974fa2",
   "metadata": {},
   "outputs": [],
   "source": [
    "struggle_features = df_imputed[[\"happy\", \"sclmeet\", \"health\"]]"
   ]
  },
  {
   "cell_type": "code",
   "execution_count": null,
   "id": "6d6bc043-96f0-4f55-9d25-b9dfcd69fad9",
   "metadata": {},
   "outputs": [],
   "source": [
    "discontent_features = df_imputed[[\"stflife\", \"stfeco\", \"stfgov\", \"stfdem\", \"stfedu\", \"stfhlth\"]]"
   ]
  },
  {
   "cell_type": "code",
   "execution_count": null,
   "id": "b1802040-c266-4500-b007-27ffc80ec92b",
   "metadata": {},
   "outputs": [],
   "source": [
    "## Define decision class\n",
    "y = df_imputed[[\"secgrdec\"]]"
   ]
  },
  {
   "cell_type": "code",
   "execution_count": null,
   "id": "7c18f6d9",
   "metadata": {},
   "outputs": [],
   "source": [
    "## Define predictors\n",
    "trust_features_internet = df_imputed[[\"netusoft\", \"psppsgva\", \"trstprl\", \"trstlgl\", \"trstplc\", \"trstplt\", \"trstprt\", \"trstep\", \"trstun\", \"trstsci\", \"fairelc\", \"medcrgv\"]]"
   ]
  },
  {
   "cell_type": "code",
   "execution_count": null,
   "id": "2ed9a8eb",
   "metadata": {},
   "outputs": [],
   "source": [
    "struggle_features_internet = df_imputed[[\"netusoft\", \"happy\", \"sclmeet\", \"health\"]]"
   ]
  },
  {
   "cell_type": "code",
   "execution_count": null,
   "id": "48ad1f40",
   "metadata": {},
   "outputs": [],
   "source": [
    "discontent_features_internet = df_imputed[[\"netusoft\", \"stflife\", \"stfeco\", \"stfgov\", \"stfdem\", \"stfedu\", \"stfhlth\"]]"
   ]
  },
  {
   "cell_type": "code",
   "execution_count": null,
   "id": "8e3d3809",
   "metadata": {},
   "outputs": [],
   "source": [
    "internet_features = df_imputed[[\"netusoft\"]]"
   ]
  },
  {
   "cell_type": "markdown",
   "id": "d3434c55-2d5f-4bd5-bebf-8e6be1541b04",
   "metadata": {},
   "source": [
    "## EDA"
   ]
  },
  {
   "cell_type": "code",
   "execution_count": null,
   "id": "539892c6-99ea-4b51-a181-44c4ef0bb5f3",
   "metadata": {
    "tags": []
   },
   "outputs": [],
   "source": [
    "## Find NA's in decision class\n",
    "df[\"secgrdec\"].isnull().sum()"
   ]
  },
  {
   "cell_type": "code",
   "execution_count": null,
   "id": "fb6fd4be-468e-4e1a-a614-21755c81bf1f",
   "metadata": {
    "tags": []
   },
   "outputs": [],
   "source": [
    "## Missing values per feature\n",
    "\n",
    "df_trimmed.isnull().sum()"
   ]
  },
  {
   "cell_type": "code",
   "execution_count": null,
   "id": "adf4d813-4689-4f2b-afc8-74106cbfab49",
   "metadata": {
    "tags": []
   },
   "outputs": [],
   "source": [
    "# Get the value counts for decision class\n",
    "value_counts = y.value_counts().sort_index()\n",
    "\n",
    "# Plot the bar graph\n",
    "plt.figure(figsize=(10, 6))\n",
    "value_counts.plot(kind='bar')\n",
    "plt.title('Distribution of decision class')\n",
    "plt.xlabel('Answers to \"A small secret group of people is responsible for making all major decisions in world politics.\" from 1 (maximum agree) to 5 (')\n",
    "plt.ylabel('Counts')\n",
    "plt.show()"
   ]
  },
  {
   "cell_type": "markdown",
   "id": "7af0e7d8-d2e2-4322-8e30-581600706c68",
   "metadata": {},
   "source": [
    "### Error Analysis with Trust in Government"
   ]
  },
  {
   "cell_type": "code",
   "execution_count": null,
   "id": "1e3a0d44-340b-41c2-853f-0c2448526fed",
   "metadata": {
    "tags": []
   },
   "outputs": [],
   "source": [
    "## Validate trust\n",
    "trust_train, trust_val, y_train, y_val = train_test_split(trust_features, y, test_size=0.2, random_state=42)"
   ]
  },
  {
   "cell_type": "code",
   "execution_count": null,
   "id": "78585e63-e364-45fa-aefa-84a93868b64d",
   "metadata": {
    "tags": []
   },
   "outputs": [],
   "source": [
    "xgb_model = XGBRegressor()\n",
    "kfold = KFold(n_splits=5, random_state=42, shuffle=True)\n",
    "xgb_cv_results = cross_val_score(xgb_model, trust_train, y_train, cv=kfold, scoring='neg_root_mean_squared_error')\n",
    "print(f\"XGBoost CV Root Mean Squared Error: {-xgb_cv_results.mean()}\")\n",
    "\n",
    "xgb_model.fit(trust_train, y_train)\n",
    "xgb_predictions = xgb_model.predict(trust_val)"
   ]
  },
  {
   "cell_type": "code",
   "execution_count": null,
   "id": "3a026076-316c-4957-ad83-1963f067207e",
   "metadata": {
    "tags": []
   },
   "outputs": [],
   "source": [
    "svm_model = svm.SVR()\n",
    "svm_cv_results = cross_val_score(svm_model, trust_train, y_train, cv=kfold, scoring='neg_root_mean_squared_error')\n",
    "print(f\"SVM CV Root Mean Squared Error: {-svm_cv_results.mean()}\")\n",
    "\n",
    "svm_model.fit(trust_train, y_train)\n",
    "svm_predictions = svm_model.predict(trust_val)"
   ]
  },
  {
   "cell_type": "code",
   "execution_count": null,
   "id": "6e7b0ce7-749c-4c20-b9ac-e39e32e1122f",
   "metadata": {
    "tags": []
   },
   "outputs": [],
   "source": [
    "rf_model = RandomForestRegressor()\n",
    "rf_cv_results = cross_val_score(rf_model, trust_train, y_train, cv=kfold, scoring='neg_root_mean_squared_error')\n",
    "print(f\"Random Forest CV Root Mean Squared Error: {-rf_cv_results.mean()}\")\n",
    "\n",
    "rf_model.fit(trust_train, y_train)\n",
    "rf_predictions = rf_model.predict(trust_val)"
   ]
  },
  {
   "cell_type": "code",
   "execution_count": null,
   "id": "c37e87db-eb9f-4f86-9c4e-7c3cdf06c273",
   "metadata": {
    "tags": []
   },
   "outputs": [],
   "source": [
    "lr_model = LinearRegression()\n",
    "lr_cv_results = cross_val_score(lr_model, trust_train, y_train, cv=kfold, scoring='neg_root_mean_squared_error')\n",
    "print(f\"Linear Regression CV Root Mean Squared Error: {-lr_cv_results.mean()}\")\n",
    "\n",
    "lr_model.fit(trust_train, y_train)\n",
    "lr_predictions = lr_model.predict(trust_val)"
   ]
  },
  {
   "cell_type": "code",
   "execution_count": null,
   "id": "fc7470ef-30c5-4951-9795-4b74540fa68e",
   "metadata": {
    "tags": []
   },
   "outputs": [],
   "source": [
    "# Error analysis for XGBoost\n",
    "xgb_mse = mean_squared_error(y_val, xgb_predictions, squared = False)\n",
    "print(f\"XGBoost RMSE: {xgb_mse}\")\n",
    "\n",
    "# Error analysis for SVM\n",
    "svm_mse = mean_squared_error(y_val, svm_predictions, squared = False)\n",
    "print(f\"SVM RMSE: {svm_mse}\")\n",
    "\n",
    "# Error analysis for Random Forest\n",
    "rf_mse = mean_squared_error(y_val, rf_predictions, squared = False)\n",
    "print(f\"Random Forest RMSE: {rf_mse}\")\n",
    "\n",
    "# Error analysis for Linear Regression\n",
    "lr_mse = mean_squared_error(y_val, lr_predictions, squared = False)\n",
    "print(f\"Linear Regression RMSE: {lr_mse}\")"
   ]
  },
  {
   "cell_type": "code",
   "execution_count": null,
   "id": "d2161512-8069-4328-b785-c699c4b3ce49",
   "metadata": {},
   "outputs": [],
   "source": [
    "## Validate struggle\n",
    "struggle_train, struggle_val, y_train, y_val = train_test_split(struggle_features, y, test_size=0.2, random_state=42)"
   ]
  },
  {
   "cell_type": "code",
   "execution_count": null,
   "id": "b80d5f85-a9ab-44c9-941a-6343c74547cb",
   "metadata": {
    "tags": []
   },
   "outputs": [],
   "source": [
    "xgb_model = XGBRegressor()\n",
    "kfold = KFold(n_splits=5, random_state=42, shuffle=True)\n",
    "xgb_cv_results = cross_val_score(xgb_model, struggle_train, y_train, cv=kfold, scoring='neg_root_mean_squared_error')\n",
    "print(f\"XGBoost CV Root Mean Squared Error: {-xgb_cv_results.mean()}\")\n",
    "\n",
    "xgb_model.fit(struggle_train, y_train)\n",
    "xgb_predictions = xgb_model.predict(struggle_val)"
   ]
  },
  {
   "cell_type": "code",
   "execution_count": null,
   "id": "353b7d43-24f9-497a-a10d-18b26e11ad55",
   "metadata": {
    "tags": []
   },
   "outputs": [],
   "source": [
    "svm_model = svm.SVR()\n",
    "svm_cv_results = cross_val_score(svm_model, struggle_train, y_train, cv=kfold, scoring='neg_root_mean_squared_error')\n",
    "print(f\"SVM CV Root Mean Squared Error: {-svm_cv_results.mean()}\")\n",
    "\n",
    "svm_model.fit(struggle_train, y_train)\n",
    "svm_predictions = svm_model.predict(struggle_val)"
   ]
  },
  {
   "cell_type": "code",
   "execution_count": null,
   "id": "280dd0a8-b872-4a96-9682-b1e44e0987e2",
   "metadata": {
    "tags": []
   },
   "outputs": [],
   "source": [
    "rf_model = RandomForestRegressor()\n",
    "rf_cv_results = cross_val_score(rf_model, struggle_train, y_train, cv=kfold, scoring='neg_root_mean_squared_error')\n",
    "print(f\"Random Forest CV Root Mean Squared Error: {-rf_cv_results.mean()}\")\n",
    "\n",
    "rf_model.fit(struggle_train, y_train)\n",
    "rf_predictions = rf_model.predict(struggle_val)"
   ]
  },
  {
   "cell_type": "code",
   "execution_count": null,
   "id": "cdce94fe-92de-45f0-997f-28a706531d73",
   "metadata": {
    "tags": []
   },
   "outputs": [],
   "source": [
    "lr_model = LinearRegression()\n",
    "lr_cv_results = cross_val_score(lr_model, struggle_train, y_train, cv=kfold, scoring='neg_root_mean_squared_error')\n",
    "print(f\"Linear Regression CV Root Mean Squared Error: {-lr_cv_results.mean()}\")\n",
    "\n",
    "lr_model.fit(struggle_train, y_train)\n",
    "lr_predictions = lr_model.predict(struggle_val)"
   ]
  },
  {
   "cell_type": "code",
   "execution_count": null,
   "id": "736db26c-1106-4c85-9f91-32be538ce338",
   "metadata": {
    "tags": []
   },
   "outputs": [],
   "source": [
    "# Error analysis for XGBoost\n",
    "xgb_mse = mean_squared_error(y_val, xgb_predictions, squared = False)\n",
    "print(f\"XGBoost RMSE: {xgb_mse}\")\n",
    "\n",
    "# Error analysis for SVM\n",
    "svm_mse = mean_squared_error(y_val, svm_predictions, squared = False)\n",
    "print(f\"SVM RMSE: {svm_mse}\")\n",
    "\n",
    "# Error analysis for Random Forest\n",
    "rf_mse = mean_squared_error(y_val, rf_predictions, squared = False)\n",
    "print(f\"Random Forest RMSE: {rf_mse}\")\n",
    "\n",
    "# Error analysis for Linear Regression\n",
    "lr_mse = mean_squared_error(y_val, lr_predictions, squared = False)\n",
    "print(f\"Linear Regression RMSE: {lr_mse}\")"
   ]
  },
  {
   "cell_type": "code",
   "execution_count": null,
   "id": "b9422742-017e-420c-846d-d757804687e3",
   "metadata": {},
   "outputs": [],
   "source": [
    "## Validate discontent\n",
    "discontent_train, discontent_val, y_train, y_val = train_test_split(discontent_features, y, test_size=0.2, random_state=42)"
   ]
  },
  {
   "cell_type": "code",
   "execution_count": null,
   "id": "4be55af8-87a0-4bbf-bade-4f15cf3ed9d1",
   "metadata": {
    "tags": []
   },
   "outputs": [],
   "source": [
    "xgb_model = XGBRegressor()\n",
    "kfold = KFold(n_splits=5, random_state=42, shuffle=True)\n",
    "xgb_cv_results = cross_val_score(xgb_model, discontent_train, y_train, cv=kfold, scoring='neg_root_mean_squared_error')\n",
    "print(f\"XGBoost CV Mean Squared Error: {-xgb_cv_results.mean()}\")\n",
    "\n",
    "xgb_model.fit(discontent_train, y_train)\n",
    "xgb_predictions = xgb_model.predict(discontent_val)"
   ]
  },
  {
   "cell_type": "code",
   "execution_count": null,
   "id": "c547949f-632c-44f1-84e5-181b03b5a0f0",
   "metadata": {
    "tags": []
   },
   "outputs": [],
   "source": [
    "svm_model = svm.SVR()\n",
    "svm_cv_results = cross_val_score(svm_model, discontent_train, y_train, cv=kfold, scoring='neg_root_mean_squared_error')\n",
    "print(f\"SVM CV Mean Squared Error: {-svm_cv_results.mean()}\")\n",
    "\n",
    "svm_model.fit(discontent_train, y_train)\n",
    "svm_predictions = svm_model.predict(discontent_val)"
   ]
  },
  {
   "cell_type": "code",
   "execution_count": null,
   "id": "7b7ee6c5-2490-4974-b01c-a4c42d53e617",
   "metadata": {
    "tags": []
   },
   "outputs": [],
   "source": [
    "rf_model = RandomForestRegressor()\n",
    "rf_cv_results = cross_val_score(rf_model, discontent_train, y_train, cv=kfold, scoring='neg_root_mean_squared_error')\n",
    "print(f\"Random Forest CV Mean Squared Error: {-rf_cv_results.mean()}\")\n",
    "\n",
    "rf_model.fit(discontent_train, y_train)\n",
    "rf_predictions = rf_model.predict(discontent_val)"
   ]
  },
  {
   "cell_type": "code",
   "execution_count": null,
   "id": "20ee1177-fd36-42fc-ae15-a64166c64b22",
   "metadata": {
    "tags": []
   },
   "outputs": [],
   "source": [
    "lr_model = LinearRegression()\n",
    "lr_cv_results = cross_val_score(lr_model, discontent_train, y_train, cv=kfold, scoring='neg_root_mean_squared_error')\n",
    "print(f\"Linear Regression CV Mean Squared Error: {-lr_cv_results.mean()}\")\n",
    "\n",
    "lr_model.fit(discontent_train, y_train)\n",
    "lr_predictions = lr_model.predict(discontent_val)"
   ]
  },
  {
   "cell_type": "code",
   "execution_count": null,
   "id": "0b5009b9-ef8f-4c05-977c-00f2e66c96a1",
   "metadata": {
    "tags": []
   },
   "outputs": [],
   "source": [
    "# Error analysis for XGBoost\n",
    "xgb_mse = mean_squared_error(y_val, xgb_predictions, squared = False)\n",
    "print(f\"XGBoost RMSE: {xgb_mse}\")\n",
    "\n",
    "# Error analysis for SVM\n",
    "svm_mse = mean_squared_error(y_val, svm_predictions, squared = False)\n",
    "print(f\"SVM RMSE: {svm_mse}\")\n",
    "\n",
    "# Error analysis for Random Forest\n",
    "rf_mse = mean_squared_error(y_val, rf_predictions, squared = False)\n",
    "print(f\"Random Forest RMSE: {rf_mse}\")\n",
    "\n",
    "# Error analysis for Linear Regression\n",
    "lr_mse = mean_squared_error(y_val, lr_predictions, squared = False)\n",
    "print(f\"Linear Regression RMSE: {lr_mse}\")"
   ]
  },
  {
   "cell_type": "markdown",
   "id": "ca59f96d",
   "metadata": {},
   "source": [
    "### Predictions using XGBoost"
   ]
  },
  {
   "cell_type": "code",
   "execution_count": null,
   "id": "6a45da17-60ab-4c3d-8893-9b6ec14162ec",
   "metadata": {},
   "outputs": [],
   "source": [
    "xgbmodel = XGBRegressor(objective=\"reg:squarederror\")"
   ]
  },
  {
   "cell_type": "code",
   "execution_count": null,
   "id": "0df092c8-6e33-4278-adbf-fcacb109b35a",
   "metadata": {},
   "outputs": [],
   "source": [
    "# Define the parameter grid to search\n",
    "param_grid = {\n",
    "    'max_depth': [3, 5, 7],\n",
    "    'learning_rate': [0.01, 0.05, 0.1],\n",
    "    'n_estimators': [200, 500, 1000],\n",
    "    'subsample': [0.6, 0.8, 1.0],\n",
    "    'colsample_bytree': [0.6, 0.8, 1.0]\n",
    "}"
   ]
  },
  {
   "cell_type": "code",
   "execution_count": null,
   "id": "d208cde2-db59-4d25-b390-b0e9379c56e0",
   "metadata": {
    "tags": []
   },
   "outputs": [],
   "source": [
    "# Set up the GridSearchCV\n",
    "grid_search = GridSearchCV(estimator=xgbmodel, \n",
    "                           param_grid=param_grid,\n",
    "                           cv=5,  # 5-fold cross-validation\n",
    "                           scoring='neg_mean_squared_error',  # scoring metric\n",
    "                           verbose=1,\n",
    "                           n_jobs=-1)"
   ]
  },
  {
   "cell_type": "code",
   "execution_count": null,
   "id": "e579c4f8-58d0-4a8b-bec1-20da6175c705",
   "metadata": {},
   "outputs": [],
   "source": [
    "## Predict trust\n",
    "trust_train, trust_test, y_train, y_test = train_test_split(trust_features, y, test_size=0.2, random_state=42)"
   ]
  },
  {
   "cell_type": "code",
   "execution_count": null,
   "id": "d787d875-6139-48ec-9f68-22e74f362596",
   "metadata": {},
   "outputs": [],
   "source": [
    "# Fit the GridSearchCV to the data\n",
    "grid_search.fit(trust_train, y_train)\n",
    "\n",
    "# Print the best parameters and the best score\n",
    "print(\"Best parameters found: \", grid_search.best_params_)\n",
    "print(\"Best score: \", grid_search.best_score_)"
   ]
  },
  {
   "cell_type": "code",
   "execution_count": null,
   "id": "db1fb607-1a66-45dc-9a4e-449478ffcdb0",
   "metadata": {
    "tags": []
   },
   "outputs": [],
   "source": [
    "best_params = grid_search.best_params_\n",
    "xgbmodel = XGBRegressor(objective=\"reg:squarederror\", **best_params)"
   ]
  },
  {
   "cell_type": "code",
   "execution_count": null,
   "id": "270faba1-7e37-4317-81a9-bc4a9713adb3",
   "metadata": {},
   "outputs": [],
   "source": [
    "xgbmodel.fit(trust_train, y_train)\n",
    "y_pred = xgbmodel.predict(trust_test)"
   ]
  },
  {
   "cell_type": "code",
   "execution_count": null,
   "id": "ce65fd6d-0b79-4585-b84d-90288dc49234",
   "metadata": {},
   "outputs": [],
   "source": [
    "mse_trust = mean_squared_error(y_test, y_pred, squared = False)\n",
    "print(f'Root Mean Squared Error: {mse_trust}')"
   ]
  },
  {
   "cell_type": "code",
   "execution_count": null,
   "id": "dc55625b-dcda-422b-b8e0-ceb614bf8218",
   "metadata": {},
   "outputs": [],
   "source": [
    "## Predict struggle\n",
    "struggle_train, struggle_test, y_train, y_test = train_test_split(struggle_features, y, test_size=0.2, random_state=42)"
   ]
  },
  {
   "cell_type": "code",
   "execution_count": null,
   "id": "d023ccd4-8d05-4090-bd8f-4d6b5d12de13",
   "metadata": {},
   "outputs": [],
   "source": [
    "xgbmodel.fit(struggle_train, y_train)\n",
    "y_pred = xgbmodel.predict(struggle_test)"
   ]
  },
  {
   "cell_type": "code",
   "execution_count": null,
   "id": "ba686eff-d045-447a-a247-ea23ac52dec3",
   "metadata": {},
   "outputs": [],
   "source": [
    "mse_struggle = mean_squared_error(y_test, y_pred, squared = False)\n",
    "print(f'Root Mean Squared Error: {mse_struggle}')"
   ]
  },
  {
   "cell_type": "code",
   "execution_count": null,
   "id": "26cfd5ef-cd0e-45ea-91d7-ceac88208c35",
   "metadata": {},
   "outputs": [],
   "source": [
    "## Predict discontent\n",
    "discontent_train, discontent_test, y_train, y_test = train_test_split(discontent_features, y, test_size=0.2, random_state=42)"
   ]
  },
  {
   "cell_type": "code",
   "execution_count": null,
   "id": "7c9d4755-0e48-4286-8a4a-c10cabb86e8e",
   "metadata": {},
   "outputs": [],
   "source": [
    "xgbmodel.fit(discontent_train, y_train)\n",
    "y_pred = xgbmodel.predict(discontent_test)"
   ]
  },
  {
   "cell_type": "code",
   "execution_count": null,
   "id": "50c6f1c1-650a-45cb-909b-507f2fbe22ee",
   "metadata": {},
   "outputs": [],
   "source": [
    "mse_discontent = mean_squared_error(y_test, y_pred, squared = False)\n",
    "print(f'Root Mean Squared Error: {mse_discontent}')"
   ]
  },
  {
   "cell_type": "markdown",
   "id": "54087aa2-246f-4a9f-9e72-04673fa6f147",
   "metadata": {},
   "source": [
    "### Predictions using XGBoost with time spent on the internet"
   ]
  },
  {
   "cell_type": "code",
   "execution_count": null,
   "id": "8e1ab818-dfc9-4c08-8c32-291918ccdf18",
   "metadata": {},
   "outputs": [],
   "source": [
    "## Predict trust\n",
    "trust_internet_train, trust_internet_test, y_train, y_test = train_test_split(trust_features_internet, y, test_size=0.2, random_state=42)"
   ]
  },
  {
   "cell_type": "code",
   "execution_count": null,
   "id": "27583ddb-b70c-43f2-a00a-ab768dbf5686",
   "metadata": {},
   "outputs": [],
   "source": [
    "xgbmodel.fit(trust_internet_train, y_train)\n",
    "y_pred = xgbmodel.predict(trust_internet_test)"
   ]
  },
  {
   "cell_type": "code",
   "execution_count": null,
   "id": "16cbefbe-e903-46ec-8298-eec64ac9ea8f",
   "metadata": {},
   "outputs": [],
   "source": [
    "mse_trust_internet = mean_squared_error(y_test, y_pred,squared = False)\n",
    "print(f'Root Mean Squared Error: {mse_trust_internet}')"
   ]
  },
  {
   "cell_type": "code",
   "execution_count": null,
   "id": "a01872da-3c5d-4570-8ae5-f732f56b42bd",
   "metadata": {},
   "outputs": [],
   "source": [
    "## Predict struggle\n",
    "struggle_internet_train, struggle_internet_test, y_train, y_test = train_test_split(struggle_features_internet, y, test_size=0.2, random_state=42)"
   ]
  },
  {
   "cell_type": "code",
   "execution_count": null,
   "id": "ec318577-5c19-43f1-87de-4ad255597eda",
   "metadata": {},
   "outputs": [],
   "source": [
    "xgbmodel.fit(struggle_internet_train, y_train)\n",
    "y_pred = xgbmodel.predict(struggle_internet_test)"
   ]
  },
  {
   "cell_type": "code",
   "execution_count": null,
   "id": "4674bac6-a87a-4983-852e-1d8be24d2256",
   "metadata": {},
   "outputs": [],
   "source": [
    "mse_struggle_internet = mean_squared_error(y_test, y_pred, squared = False)\n",
    "print(f'Root Mean Squared Error: {mse_struggle_internet}')"
   ]
  },
  {
   "cell_type": "code",
   "execution_count": null,
   "id": "8b8ce962-f0af-49e0-89ab-6485e9201191",
   "metadata": {},
   "outputs": [],
   "source": [
    "## Predict discontent\n",
    "discontent_internet_train, discontent_internet_test, y_train, y_test = train_test_split(discontent_features_internet, y, test_size=0.2, random_state=42)"
   ]
  },
  {
   "cell_type": "code",
   "execution_count": null,
   "id": "93ce8e29-f8ac-43ac-97ff-7e952e15b6f2",
   "metadata": {},
   "outputs": [],
   "source": [
    "xgbmodel.fit(discontent_internet_train, y_train)\n",
    "y_pred = xgbmodel.predict(discontent_internet_test)"
   ]
  },
  {
   "cell_type": "code",
   "execution_count": null,
   "id": "8ef97ae6-ea5e-4ce8-87e4-514cb21bc5fe",
   "metadata": {},
   "outputs": [],
   "source": [
    "mse_discontent_internet = mean_squared_error(y_test, y_pred, squared = False)\n",
    "print(f'Root Mean Squared Error: {mse_discontent_internet}')"
   ]
  },
  {
   "cell_type": "code",
   "execution_count": null,
   "id": "ad679d93-bd59-4446-bd78-75949ed89138",
   "metadata": {},
   "outputs": [],
   "source": [
    "## Predict discontent\n",
    "internet_train, internet_test, y_train, y_test = train_test_split(internet_features, y, test_size=0.2, random_state=42)"
   ]
  },
  {
   "cell_type": "code",
   "execution_count": null,
   "id": "2ecc22d1-33fe-4742-ad6d-8aec282a60ea",
   "metadata": {},
   "outputs": [],
   "source": [
    "xgbmodel.fit(internet_train, y_train)\n",
    "y_pred = xgbmodel.predict(internet_test)"
   ]
  },
  {
   "cell_type": "code",
   "execution_count": null,
   "id": "1fbcaee7-de29-490f-8b0a-1ab1bd11182d",
   "metadata": {},
   "outputs": [],
   "source": [
    "mse_internet = mean_squared_error(y_test, y_pred, squared = False)\n",
    "print(f'Root Mean Squared Error: {mse_internet}')"
   ]
  },
  {
   "cell_type": "markdown",
   "id": "2a3fef53",
   "metadata": {},
   "source": [
    "### Predictions using Random Forest Regressor"
   ]
  },
  {
   "cell_type": "code",
   "execution_count": null,
   "id": "42f5e4a4",
   "metadata": {},
   "outputs": [],
   "source": [
    "rfrmodel = RandomForestRegressor(random_state=42)"
   ]
  },
  {
   "cell_type": "code",
   "execution_count": null,
   "id": "5918d480-392c-4a3c-a183-cfee7aadf8c9",
   "metadata": {
    "tags": []
   },
   "outputs": [],
   "source": [
    "param_grid_rfr = {\n",
    "    'n_estimators': [100, 200, 500],\n",
    "    'max_features': ['auto', 'sqrt', 'log2'],\n",
    "    'max_depth': [None, 10, 20, 30],\n",
    "    'min_samples_split': [2, 5, 10],\n",
    "    'min_samples_leaf': [1, 2, 4]\n",
    "}"
   ]
  },
  {
   "cell_type": "code",
   "execution_count": null,
   "id": "c2431842",
   "metadata": {},
   "outputs": [],
   "source": [
    "## Predict trust\n",
    "trust_train, trust_test, y_train, y_test = train_test_split(trust_features, y, test_size=0.2, random_state=42)"
   ]
  },
  {
   "cell_type": "code",
   "execution_count": null,
   "id": "ca5a1b17-3e7c-4ab0-85a8-acfc71be096f",
   "metadata": {
    "scrolled": true,
    "tags": []
   },
   "outputs": [],
   "source": [
    "grid_search_rfr = GridSearchCV(estimator=rfrmodel, param_grid=param_grid_rfr, cv=5, scoring='neg_mean_squared_error', verbose=1, n_jobs=-1)\n",
    "grid_search_rfr.fit(trust_train, y_train)\n",
    "print(\"Best parameters for RFR: \", grid_search_rfr.best_params_)\n",
    "print(\"Best score for RFR: \", grid_search_rfr.best_score_)"
   ]
  },
  {
   "cell_type": "code",
   "execution_count": null,
   "id": "4ebce206-72f5-4bd3-9c86-2ecb5d796ac8",
   "metadata": {
    "tags": []
   },
   "outputs": [],
   "source": [
    "best_params = grid_search_rfr.best_params_\n",
    "rfrmodel = RandomForestRegressor(random_state = 42, **best_params)"
   ]
  },
  {
   "cell_type": "code",
   "execution_count": null,
   "id": "a3f4f45e",
   "metadata": {},
   "outputs": [],
   "source": [
    "rfrmodel.fit(trust_train, y_train)\n",
    "y_pred = rfrmodel.predict(trust_test)"
   ]
  },
  {
   "cell_type": "code",
   "execution_count": null,
   "id": "2c8743dd",
   "metadata": {},
   "outputs": [],
   "source": [
    "mse_trust = mean_squared_error(y_test, y_pred, squared = False)\n",
    "print(f'Root Mean Squared Error: {mse_trust}')"
   ]
  },
  {
   "cell_type": "code",
   "execution_count": null,
   "id": "56c96c45",
   "metadata": {},
   "outputs": [],
   "source": [
    "## Predict struggle\n",
    "struggle_train, struggle_test, y_train, y_test = train_test_split(struggle_features, y, test_size=0.2, random_state=42)"
   ]
  },
  {
   "cell_type": "code",
   "execution_count": null,
   "id": "c0c647e2",
   "metadata": {},
   "outputs": [],
   "source": [
    "rfrmodel.fit(struggle_train, y_train)\n",
    "y_pred = rfrmodel.predict(struggle_test)"
   ]
  },
  {
   "cell_type": "code",
   "execution_count": null,
   "id": "5c2cbb76",
   "metadata": {},
   "outputs": [],
   "source": [
    "mse_struggle = mean_squared_error(y_test, y_pred, squared = False)\n",
    "print(f'Root Mean Squared Error: {mse_struggle}')"
   ]
  },
  {
   "cell_type": "code",
   "execution_count": null,
   "id": "b5832e47",
   "metadata": {},
   "outputs": [],
   "source": [
    "## Predict discontent\n",
    "discontent_train, discontent_test, y_train, y_test = train_test_split(discontent_features, y, test_size=0.2, random_state=42)"
   ]
  },
  {
   "cell_type": "code",
   "execution_count": null,
   "id": "c68b0cc0",
   "metadata": {},
   "outputs": [],
   "source": [
    "rfrmodel.fit(discontent_train, y_train)\n",
    "y_pred = rfrmodel.predict(discontent_test)"
   ]
  },
  {
   "cell_type": "code",
   "execution_count": null,
   "id": "05a4decf",
   "metadata": {},
   "outputs": [],
   "source": [
    "mse_discontent = mean_squared_error(y_test, y_pred, squared = False)\n",
    "print(f'Root Mean Squared Error: {mse_discontent}')"
   ]
  },
  {
   "cell_type": "markdown",
   "id": "38f5c4ea",
   "metadata": {},
   "source": [
    "### Predictions using RandomForestRegressor with time spent on the internet"
   ]
  },
  {
   "cell_type": "code",
   "execution_count": null,
   "id": "f6d1b923",
   "metadata": {},
   "outputs": [],
   "source": [
    "## Predict trust\n",
    "trust_internet_train, trust_internet_test, y_train, y_test = train_test_split(trust_features_internet, y, test_size=0.2, random_state=42)"
   ]
  },
  {
   "cell_type": "code",
   "execution_count": null,
   "id": "55da79e2",
   "metadata": {},
   "outputs": [],
   "source": [
    "rfrmodel.fit(trust_internet_train, y_train)\n",
    "y_pred = rfrmodel.predict(trust_internet_test)"
   ]
  },
  {
   "cell_type": "code",
   "execution_count": null,
   "id": "dfea1fb1",
   "metadata": {},
   "outputs": [],
   "source": [
    "mse_trust_internet = mean_squared_error(y_test, y_pred, squared = False)\n",
    "print(f'Root Mean Squared Error: {mse_trust_internet}')"
   ]
  },
  {
   "cell_type": "code",
   "execution_count": null,
   "id": "9698a6d4",
   "metadata": {},
   "outputs": [],
   "source": [
    "## Predict struggle\n",
    "struggle_internet_train, struggle_internet_test, y_train, y_test = train_test_split(struggle_features_internet, y, test_size=0.2, random_state=42)"
   ]
  },
  {
   "cell_type": "code",
   "execution_count": null,
   "id": "897c2ffa",
   "metadata": {},
   "outputs": [],
   "source": [
    "rfrmodel.fit(struggle_internet_train, y_train)\n",
    "y_pred = rfrmodel.predict(struggle_internet_test)"
   ]
  },
  {
   "cell_type": "code",
   "execution_count": null,
   "id": "326fd351",
   "metadata": {},
   "outputs": [],
   "source": [
    "mse_struggle_internet = mean_squared_error(y_test, y_pred, squared = False)\n",
    "print(f'Root Mean Squared Error: {mse_struggle_internet}')"
   ]
  },
  {
   "cell_type": "code",
   "execution_count": null,
   "id": "19367093",
   "metadata": {},
   "outputs": [],
   "source": [
    "## Predict discontent\n",
    "discontent_internet_train, discontent_internet_test, y_train, y_test = train_test_split(discontent_features_internet, y, test_size=0.2, random_state=42)"
   ]
  },
  {
   "cell_type": "code",
   "execution_count": null,
   "id": "7b3c6da2",
   "metadata": {},
   "outputs": [],
   "source": [
    "rfrmodel.fit(discontent_internet_train, y_train)\n",
    "y_pred = rfrmodel.predict(discontent_internet_test)"
   ]
  },
  {
   "cell_type": "code",
   "execution_count": null,
   "id": "896f52d7",
   "metadata": {
    "scrolled": true
   },
   "outputs": [],
   "source": [
    "mse_discontent_internet = mean_squared_error(y_test, y_pred, squared = False)\n",
    "print(f'Root Mean Squared Error: {mse_discontent_internet}')"
   ]
  },
  {
   "cell_type": "code",
   "execution_count": null,
   "id": "657b8b5b-180c-4733-a4d9-6b4836a11337",
   "metadata": {},
   "outputs": [],
   "source": [
    "## Predict discontent\n",
    "internet_train, internet_test, y_train, y_test = train_test_split(internet_features, y, test_size=0.2, random_state=42)"
   ]
  },
  {
   "cell_type": "code",
   "execution_count": null,
   "id": "4e7b21b6-387f-4b72-9d57-2ee9c6ba23fb",
   "metadata": {},
   "outputs": [],
   "source": [
    "rfrmodel.fit(internet_train, y_train)\n",
    "y_pred = rfrmodel.predict(internet_test)"
   ]
  },
  {
   "cell_type": "code",
   "execution_count": null,
   "id": "04898e94-5f4d-49a6-a2ad-85252b4add5b",
   "metadata": {},
   "outputs": [],
   "source": [
    "mse_internet = mean_squared_error(y_test, y_pred, squared = False)\n",
    "print(f'Root Mean Squared Error: {mse_internet}')"
   ]
  },
  {
   "cell_type": "markdown",
   "id": "3244a76d",
   "metadata": {},
   "source": [
    "### Predictions using Linear Regression"
   ]
  },
  {
   "cell_type": "code",
   "execution_count": null,
   "id": "2e3aea7c",
   "metadata": {
    "scrolled": true
   },
   "outputs": [],
   "source": [
    "lrmodel = LinearRegression()"
   ]
  },
  {
   "cell_type": "code",
   "execution_count": null,
   "id": "d11e3fef",
   "metadata": {},
   "outputs": [],
   "source": [
    "## Predict trust\n",
    "trust_train, trust_test, y_train, y_test = train_test_split(trust_features, y, test_size=0.2, random_state=42)"
   ]
  },
  {
   "cell_type": "code",
   "execution_count": null,
   "id": "c248bdc3",
   "metadata": {},
   "outputs": [],
   "source": [
    "lrmodel.fit(trust_train, y_train)\n",
    "y_pred = lrmodel.predict(trust_test)"
   ]
  },
  {
   "cell_type": "code",
   "execution_count": null,
   "id": "98785eb6",
   "metadata": {},
   "outputs": [],
   "source": [
    "mse_trust = mean_squared_error(y_test, y_pred, squared = False)\n",
    "print(f'Root Mean Squared Error: {mse_trust}')"
   ]
  },
  {
   "cell_type": "code",
   "execution_count": null,
   "id": "76223fc4",
   "metadata": {},
   "outputs": [],
   "source": [
    "## Predict struggle\n",
    "struggle_train, struggle_test, y_train, y_test = train_test_split(struggle_features, y, test_size=0.2, random_state=42)"
   ]
  },
  {
   "cell_type": "code",
   "execution_count": null,
   "id": "e5f7e61a",
   "metadata": {},
   "outputs": [],
   "source": [
    "lrmodel.fit(struggle_train, y_train)\n",
    "y_pred = lrmodel.predict(struggle_test)"
   ]
  },
  {
   "cell_type": "code",
   "execution_count": null,
   "id": "d564525b",
   "metadata": {},
   "outputs": [],
   "source": [
    "mse_struggle = mean_squared_error(y_test, y_pred, squared = False)\n",
    "print(f'Root Mean Squared Error: {mse_struggle}')"
   ]
  },
  {
   "cell_type": "code",
   "execution_count": null,
   "id": "028ea611",
   "metadata": {},
   "outputs": [],
   "source": [
    "## Predict discontent\n",
    "discontent_train, discontent_test, y_train, y_test = train_test_split(discontent_features, y, test_size=0.2, random_state=42)"
   ]
  },
  {
   "cell_type": "code",
   "execution_count": null,
   "id": "400b998e",
   "metadata": {},
   "outputs": [],
   "source": [
    "lrmodel.fit(discontent_train, y_train)\n",
    "y_pred = lrmodel.predict(discontent_test)"
   ]
  },
  {
   "cell_type": "code",
   "execution_count": null,
   "id": "d3f9b555",
   "metadata": {},
   "outputs": [],
   "source": [
    "mse_discontent = mean_squared_error(y_test, y_pred, squared = False)\n",
    "print(f'Root Mean Squared Error: {mse_discontent}')"
   ]
  },
  {
   "cell_type": "markdown",
   "id": "e1e88990",
   "metadata": {},
   "source": [
    "### Predictions using Linear Regression with time spent on the internet"
   ]
  },
  {
   "cell_type": "code",
   "execution_count": null,
   "id": "400ba9c3",
   "metadata": {},
   "outputs": [],
   "source": [
    "## Predict trust\n",
    "trust_internet_train, trust_internet_test, y_train, y_test = train_test_split(trust_features_internet, y, test_size=0.2, random_state=42)"
   ]
  },
  {
   "cell_type": "code",
   "execution_count": null,
   "id": "2b75c31c",
   "metadata": {},
   "outputs": [],
   "source": [
    "lrmodel.fit(trust_internet_train, y_train)\n",
    "y_pred = lrmodel.predict(trust_internet_test)"
   ]
  },
  {
   "cell_type": "code",
   "execution_count": null,
   "id": "67832120",
   "metadata": {},
   "outputs": [],
   "source": [
    "mse_trust_internet = mean_squared_error(y_test, y_pred, squared = False)\n",
    "print(f'Root Mean Squared Error: {mse_trust_internet}')"
   ]
  },
  {
   "cell_type": "code",
   "execution_count": null,
   "id": "44210074-d5fc-4024-91a8-68464f5c209a",
   "metadata": {},
   "outputs": [],
   "source": [
    "## Predict struggle\n",
    "struggle_train, struggle_test, y_train, y_test = train_test_split(struggle_features, y, test_size=0.2, random_state=42)"
   ]
  },
  {
   "cell_type": "code",
   "execution_count": null,
   "id": "d27be327",
   "metadata": {},
   "outputs": [],
   "source": [
    "lrmodel.fit(struggle_internet_train, y_train)\n",
    "y_pred = lrmodel.predict(struggle_internet_test)"
   ]
  },
  {
   "cell_type": "code",
   "execution_count": null,
   "id": "f9ba0e49",
   "metadata": {},
   "outputs": [],
   "source": [
    "mse_struggle_internet = mean_squared_error(y_test, y_pred, squared = False)\n",
    "print(f'Root Mean Squared Error: {mse_struggle_internet}')"
   ]
  },
  {
   "cell_type": "code",
   "execution_count": null,
   "id": "44558a08",
   "metadata": {},
   "outputs": [],
   "source": [
    "## Predict discontent\n",
    "discontent_internet_train, discontent_internet_test, y_train, y_test = train_test_split(discontent_features_internet, y, test_size=0.2, random_state=42)"
   ]
  },
  {
   "cell_type": "code",
   "execution_count": null,
   "id": "b6242001",
   "metadata": {},
   "outputs": [],
   "source": [
    "lrmodel.fit(discontent_internet_train, y_train)\n",
    "y_pred = lrmodel.predict(discontent_internet_test)"
   ]
  },
  {
   "cell_type": "code",
   "execution_count": null,
   "id": "7b797a4e",
   "metadata": {
    "scrolled": true,
    "tags": []
   },
   "outputs": [],
   "source": [
    "mse_discontent_internet = mean_squared_error(y_test, y_pred, squared = False)\n",
    "print(f'Root Mean Squared Error: {mse_discontent_internet}')"
   ]
  },
  {
   "cell_type": "code",
   "execution_count": null,
   "id": "d316e50e-bae0-4c13-aab5-615b4fa78778",
   "metadata": {},
   "outputs": [],
   "source": [
    "## Predict discontent\n",
    "internet_train, internet_test, y_train, y_test = train_test_split(internet_features, y, test_size=0.2, random_state=42)"
   ]
  },
  {
   "cell_type": "code",
   "execution_count": null,
   "id": "73155ac2-bb99-4750-9e43-fe600e9504fb",
   "metadata": {},
   "outputs": [],
   "source": [
    "lrmodel.fit(internet_train, y_train)\n",
    "y_pred = lrmodel.predict(internet_test)"
   ]
  },
  {
   "cell_type": "code",
   "execution_count": null,
   "id": "ae82cf99-d1b9-41a1-b081-618cb654838e",
   "metadata": {},
   "outputs": [],
   "source": [
    "mse_internet = mean_squared_error(y_test, y_pred, squared = False)\n",
    "print(f'Root Mean Squared Error: {mse_internet}')"
   ]
  },
  {
   "cell_type": "markdown",
   "id": "a3139042-b6e7-4f69-83a1-3360fb3ee46f",
   "metadata": {},
   "source": [
    "### Predictions using Support Vector Machines"
   ]
  },
  {
   "cell_type": "code",
   "execution_count": null,
   "id": "600835d9-cc61-4a5e-9e96-6f562e88b97e",
   "metadata": {
    "scrolled": true
   },
   "outputs": [],
   "source": [
    "svmmodel = svm.SVR()"
   ]
  },
  {
   "cell_type": "code",
   "execution_count": null,
   "id": "51fe5c9f-1551-4523-b749-ba3d455571ce",
   "metadata": {
    "tags": []
   },
   "outputs": [],
   "source": [
    "param_grid_svm = {\n",
    "    'C': [1, 10, 100],\n",
    "    'gamma': [1, 0.1, 0.01],\n",
    "    'kernel': ['linear', 'rbf', 'sigmoid']\n",
    "}"
   ]
  },
  {
   "cell_type": "code",
   "execution_count": null,
   "id": "8ca1bab7-3920-41e1-acec-bda90df67131",
   "metadata": {},
   "outputs": [],
   "source": [
    "## Predict trust\n",
    "trust_train, trust_test, y_train, y_test = train_test_split(trust_features, y, test_size=0.2, random_state=42)"
   ]
  },
  {
   "cell_type": "code",
   "execution_count": null,
   "id": "2f638b1a-fdbe-4185-8950-604208f10d74",
   "metadata": {
    "scrolled": true,
    "tags": []
   },
   "outputs": [],
   "source": [
    "grid_search_svm = GridSearchCV(estimator=svmmodel, param_grid=param_grid_svm, cv=5, scoring='neg_mean_squared_error', verbose=1, n_jobs=-1)\n",
    "grid_search_svm.fit(trust_train, y_train)\n",
    "print(\"Best parameters for SVM: \", grid_search_svm.best_params_)\n",
    "print(\"Best score for SVM: \", grid_search_svm.best_score_)"
   ]
  },
  {
   "cell_type": "code",
   "execution_count": null,
   "id": "3b813bcd-d085-48f0-87d7-3d819c810cf4",
   "metadata": {
    "tags": []
   },
   "outputs": [],
   "source": [
    "best_params = grid_search_svm.best_params_\n",
    "svmmodel = svm.SVR(**best_params)"
   ]
  },
  {
   "cell_type": "code",
   "execution_count": null,
   "id": "193a27de-e865-4407-bab9-602b871f91e0",
   "metadata": {},
   "outputs": [],
   "source": [
    "svmmodel.fit(trust_train, y_train)\n",
    "y_pred = svmmodel.predict(trust_test)"
   ]
  },
  {
   "cell_type": "code",
   "execution_count": null,
   "id": "6d9e7afc-f469-4355-86b6-c55a29866237",
   "metadata": {},
   "outputs": [],
   "source": [
    "mse_trust = mean_squared_error(y_test, y_pred, squared = False)\n",
    "print(f'Root Mean Squared Error: {mse_trust}')"
   ]
  },
  {
   "cell_type": "code",
   "execution_count": null,
   "id": "1ad53766-aee5-4031-9832-e6ab26d3a1f9",
   "metadata": {},
   "outputs": [],
   "source": [
    "## Predict struggle\n",
    "struggle_train, struggle_test, y_train, y_test = train_test_split(struggle_features, y, test_size=0.2, random_state=42)"
   ]
  },
  {
   "cell_type": "code",
   "execution_count": null,
   "id": "e588a696-90e6-46d8-bed4-12cc4915167e",
   "metadata": {},
   "outputs": [],
   "source": [
    "svmmodel.fit(struggle_train, y_train)\n",
    "y_pred = svmmodel.predict(struggle_test)"
   ]
  },
  {
   "cell_type": "code",
   "execution_count": null,
   "id": "c196a2bb-d6a6-4847-af0e-d836fe6c9e62",
   "metadata": {},
   "outputs": [],
   "source": [
    "mse_struggle = mean_squared_error(y_test, y_pred, squared = False)\n",
    "print(f'Root Mean Squared Error: {mse_struggle}')"
   ]
  },
  {
   "cell_type": "code",
   "execution_count": null,
   "id": "2e58a816-28e5-4a35-9eb8-2d4a89cadc6c",
   "metadata": {},
   "outputs": [],
   "source": [
    "## Predict discontent\n",
    "discontent_train, discontent_test, y_train, y_test = train_test_split(discontent_features, y, test_size=0.2, random_state=42)"
   ]
  },
  {
   "cell_type": "code",
   "execution_count": null,
   "id": "3ee88d07-56ed-4a73-8f21-2386a9ab1b2a",
   "metadata": {},
   "outputs": [],
   "source": [
    "svmmodel.fit(discontent_train, y_train)\n",
    "y_pred = svmmodel.predict(discontent_test)"
   ]
  },
  {
   "cell_type": "code",
   "execution_count": null,
   "id": "08a54f8b-86a6-42a8-a8c1-b21c670527a4",
   "metadata": {},
   "outputs": [],
   "source": [
    "mse_discontent = mean_squared_error(y_test, y_pred, squared = False)\n",
    "print(f'Root Mean Squared Error: {mse_discontent}')"
   ]
  },
  {
   "cell_type": "markdown",
   "id": "fa8570e1-0624-4856-8eaa-2d5f6a02bad4",
   "metadata": {},
   "source": [
    "### Predictions using Support Vector Machines with time spent on the internet"
   ]
  },
  {
   "cell_type": "code",
   "execution_count": null,
   "id": "0163bb31-6fa1-4c76-94a4-a75719f7de99",
   "metadata": {},
   "outputs": [],
   "source": [
    "## Predict trust\n",
    "trust_internet_train, trust_internet_test, y_train, y_test = train_test_split(trust_features_internet, y, test_size=0.2, random_state=42)"
   ]
  },
  {
   "cell_type": "code",
   "execution_count": null,
   "id": "e77439e5-28e6-44f5-8922-c9ca3aee0dfc",
   "metadata": {},
   "outputs": [],
   "source": [
    "svmmodel.fit(trust_internet_train, y_train)\n",
    "y_pred = svmmodel.predict(trust_internet_test)"
   ]
  },
  {
   "cell_type": "code",
   "execution_count": null,
   "id": "e79aa92b-0b6d-48b5-b20a-93d678f15943",
   "metadata": {},
   "outputs": [],
   "source": [
    "mse_trust_internet = mean_squared_error(y_test, y_pred, squared = False)\n",
    "print(f'Root Mean Squared Error: {mse_trust_internet}')"
   ]
  },
  {
   "cell_type": "code",
   "execution_count": null,
   "id": "668ff014-5312-4f4b-a4ab-f8516f912bbb",
   "metadata": {},
   "outputs": [],
   "source": [
    "## Predict struggle\n",
    "struggle_internet_train, struggle_internet_test, y_train, y_test = train_test_split(struggle_features_internet, y, test_size=0.2, random_state=42)"
   ]
  },
  {
   "cell_type": "code",
   "execution_count": null,
   "id": "faf40d4e-ba7c-45ad-a176-adde6f5ea9fc",
   "metadata": {},
   "outputs": [],
   "source": [
    "svmmodel.fit(struggle_internet_train, y_train)\n",
    "y_pred = svmmodel.predict(struggle_internet_test)"
   ]
  },
  {
   "cell_type": "code",
   "execution_count": null,
   "id": "52ee8d9d-0bd3-4ea0-b63f-782866058af3",
   "metadata": {},
   "outputs": [],
   "source": [
    "mse_struggle_internet = mean_squared_error(y_test, y_pred, squared = False)\n",
    "print(f'Root Mean Squared Error: {mse_struggle_internet}')"
   ]
  },
  {
   "cell_type": "code",
   "execution_count": null,
   "id": "323eb6cb-9e7a-4f5d-958f-5c5301d2e118",
   "metadata": {},
   "outputs": [],
   "source": [
    "## Predict discontent\n",
    "discontent_internet_train, discontent_internet_test, y_train, y_test = train_test_split(discontent_features_internet, y, test_size=0.2, random_state=42)"
   ]
  },
  {
   "cell_type": "code",
   "execution_count": null,
   "id": "158d7367-b3b1-4b8f-a120-b3529d5eab1d",
   "metadata": {},
   "outputs": [],
   "source": [
    "svmmodel.fit(discontent_internet_train, y_train)\n",
    "y_pred = svmmodel.predict(discontent_internet_test)"
   ]
  },
  {
   "cell_type": "code",
   "execution_count": null,
   "id": "445d7cf5-0cd3-418c-9792-83d9b205233a",
   "metadata": {
    "scrolled": true,
    "tags": []
   },
   "outputs": [],
   "source": [
    "mse_discontent_internet = mean_squared_error(y_test, y_pred, squared = False)\n",
    "print(f'Root Mean Squared Error: {mse_discontent_internet}')"
   ]
  },
  {
   "cell_type": "code",
   "execution_count": null,
   "id": "6b13b3a2-7076-4d5a-a208-b1c0ef541c5e",
   "metadata": {},
   "outputs": [],
   "source": [
    "## Predict discontent\n",
    "internet_train, internet_test, y_train, y_test = train_test_split(internet_features, y, test_size=0.2, random_state=42)"
   ]
  },
  {
   "cell_type": "code",
   "execution_count": null,
   "id": "8dea0de8-744e-44dc-8c48-b812f116801c",
   "metadata": {},
   "outputs": [],
   "source": [
    "svmmodel.fit(internet_train, y_train)\n",
    "y_pred = svmmodel.predict(internet_test)"
   ]
  },
  {
   "cell_type": "code",
   "execution_count": null,
   "id": "7985aa71-a717-4ace-9884-737608609996",
   "metadata": {
    "tags": []
   },
   "outputs": [],
   "source": [
    "mse_internet = mean_squared_error(y_test, y_pred, squared = False)\n",
    "print(f'Root Mean Squared Error: {mse_internet}')"
   ]
  }
 ],
 "metadata": {
  "kernelspec": {
   "display_name": "Python 3 (ipykernel)",
   "language": "python",
   "name": "python3"
  },
  "language_info": {
   "codemirror_mode": {
    "name": "ipython",
    "version": 3
   },
   "file_extension": ".py",
   "mimetype": "text/x-python",
   "name": "python",
   "nbconvert_exporter": "python",
   "pygments_lexer": "ipython3",
   "version": "3.11.7"
  }
 },
 "nbformat": 4,
 "nbformat_minor": 5
}
